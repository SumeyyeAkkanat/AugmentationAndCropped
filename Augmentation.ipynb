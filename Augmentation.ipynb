{
 "cells": [
  {
   "cell_type": "code",
   "execution_count": 3,
   "id": "dominican-rabbit",
   "metadata": {},
   "outputs": [],
   "source": [
    "from keras.preprocessing.image import ImageDataGenerator, array_to_img, img_to_array, load_img\n",
    "\n",
    "datagen = ImageDataGenerator(\n",
    "        rotation_range=10,\n",
    "        width_shift_range=0.1,\n",
    "        height_shift_range=0.1,\n",
    "        shear_range=0.1,\n",
    "        brightness_range=(0.3, 1.0),\n",
    "        horizontal_flip=True, \n",
    "        vertical_flip=True, \n",
    "        fill_mode='nearest')\n",
    "\n",
    "# Aug yapılması istenen görüntü \n",
    "img = load_img('C:/Users/pc/Desktop/110.jpg')  \n",
    "x = img_to_array(img)  \n",
    "x = x.reshape((1,) + x.shape)  \n",
    "\n",
    "# Dizinde 'aug' isimli klasör olmalı\n",
    "i = 0\n",
    "for batch in datagen.flow(x, batch_size=1,\n",
    "                          save_to_dir='aug', save_prefix='aug', save_format='jpg'):\n",
    "    \n",
    "    i += 1\n",
    "    if i > 9:  # 10 farklı resim halinde kaydediyor \n",
    "        break  "
   ]
  }
 ],
 "metadata": {
  "kernelspec": {
   "display_name": "Python 3",
   "language": "python",
   "name": "python3"
  },
  "language_info": {
   "codemirror_mode": {
    "name": "ipython",
    "version": 3
   },
   "file_extension": ".py",
   "mimetype": "text/x-python",
   "name": "python",
   "nbconvert_exporter": "python",
   "pygments_lexer": "ipython3",
   "version": "3.8.8"
  }
 },
 "nbformat": 4,
 "nbformat_minor": 5
}
